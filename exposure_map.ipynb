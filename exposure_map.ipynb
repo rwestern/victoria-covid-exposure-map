{
 "cells": [
  {
   "cell_type": "code",
   "execution_count": null,
   "id": "10475768-0f80-48ff-8aed-6b2d9fa6f024",
   "metadata": {},
   "outputs": [],
   "source": [
    "! pip install folium pandas"
   ]
  },
  {
   "cell_type": "code",
   "execution_count": null,
   "id": "750b6c4e-ca23-45df-b1b4-f5141e36d78a",
   "metadata": {},
   "outputs": [],
   "source": [
    "import folium\n",
    "import re\n",
    "import pandas as pd"
   ]
  },
  {
   "cell_type": "code",
   "execution_count": null,
   "id": "523c9431-cd94-4ce5-8406-3e1a21d7c289",
   "metadata": {},
   "outputs": [],
   "source": [
    "geocoded_exposure_sites = pd.read_parquet(\"geocoded_exposure_sites.parquet\")\n",
    "geocoded_exposure_sites.columns = geocoded_exposure_sites.columns.str.strip().str.lower().str.replace('[()]', '', regex=True).str.replace('[^0-9a-zA-Z_]', '_', regex=True)\n",
    "geocoded_exposure_sites = geocoded_exposure_sites.assign(tier = lambda x: x.advice_title.str.extract(\"Tier ([0-9])\"))"
   ]
  },
  {
   "cell_type": "code",
   "execution_count": null,
   "id": "5a259aaf-aeef-4967-ad41-239f31c198f7",
   "metadata": {},
   "outputs": [],
   "source": [
    "m = folium.Map([-37.813611, 144.963056]) # centre of Melbourne\n",
    "for site in geocoded_exposure_sites[geocoded_exposure_sites.geometry_lng.isna() == False].itertuples():\n",
    "    tooltip = site.site_title\n",
    "    popup = f\"\"\"<h3>{site.site_title}</h3><br>\n",
    "        {site.advice_title}<br>\n",
    "        {site.exposure_date}<br>\n",
    "        {site.exposure_time_start_24} to {site.exposure_time_end_24}<br>\n",
    "        {site.advice_instruction}\"\"\"\n",
    "    colour = \"darkred\" if site.tier==\"1\" else \"red\" if site.tier==\"2\" else \"orange\"\n",
    "    folium.CircleMarker(location=[site.geometry_lat, site.geometry_lng],popup=folium.Popup(popup, max_width=800),tooltip=tooltip,color=colour, radius=5).add_to(m)\n",
    "    #folium.Marker(location=[site.geometry_lat, site.geometry_lng],popup=folium.Popup(popup, max_width=800),tooltip=tooltip,icon=folium.Icon(color=colour, icon='exclamation', prefix='fa')).add_to(m)\n",
    "m"
   ]
  }
 ],
 "metadata": {
  "kernelspec": {
   "display_name": "Python 3",
   "language": "python",
   "name": "python3"
  },
  "language_info": {
   "codemirror_mode": {
    "name": "ipython",
    "version": 3
   },
   "file_extension": ".py",
   "mimetype": "text/x-python",
   "name": "python",
   "nbconvert_exporter": "python",
   "pygments_lexer": "ipython3",
   "version": "3.8.5"
  }
 },
 "nbformat": 4,
 "nbformat_minor": 5
}
