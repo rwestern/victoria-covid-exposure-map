{
 "cells": [
  {
   "cell_type": "markdown",
   "metadata": {},
   "source": [
    "# Geocode Victoria's exposure sites\n",
    "## Uses the awesome geocoding engine from https://opencagedata.com/\n",
    "No guarantees given whatsoever about accuracy of the results. Use at your own risk."
   ]
  },
  {
   "cell_type": "code",
   "execution_count": null,
   "metadata": {},
   "outputs": [],
   "source": [
    "!pip install opencage pandas fastparquet"
   ]
  },
  {
   "cell_type": "code",
   "execution_count": null,
   "metadata": {},
   "outputs": [],
   "source": [
    "import pandas as pd\n",
    "from time import sleep"
   ]
  },
  {
   "cell_type": "code",
   "execution_count": null,
   "metadata": {},
   "outputs": [],
   "source": [
    "api_key = \"\" # insert your API key here."
   ]
  },
  {
   "cell_type": "code",
   "execution_count": null,
   "metadata": {},
   "outputs": [],
   "source": [
    "dataset_url = \"https://docs.google.com/spreadsheets/d/e/2PACX-1vSNouXrJ8UQ-tn6bAxzrOdLINuoOtn01fSjooql0O3XQlj4_ldFiglzOmDm--t2jy1k-ABK6LMzPScs/pub?gid=1075463302&single=true&output=csv\""
   ]
  },
  {
   "cell_type": "code",
   "execution_count": null,
   "metadata": {},
   "outputs": [],
   "source": [
    "exposure_sites = pd.read_csv(dataset_url)"
   ]
  },
  {
   "cell_type": "code",
   "execution_count": null,
   "metadata": {},
   "outputs": [],
   "source": [
    "from opencage.geocoder import OpenCageGeocode\n",
    "\n",
    "geocoder = OpenCageGeocode(api_key)\n",
    "geocoded = []\n",
    "for site in exposure_sites.itertuples():\n",
    "    address = f\"{site.Site_streetaddress.strip()}, {site.Suburb.strip()}, {site.Site_state.strip()}, {site.Site_postcode}\"\n",
    "    results = geocoder.geocode(query=address,\n",
    "                               countrycode=\"AU\",\n",
    "                               limit=1,\n",
    "                               bounds=[140.32471,-39.24360,150.27832,-33.59022], # uses rough bounding box for Victoria\n",
    "                               no_annotations=1)\n",
    "    sleep(1)\n",
    "    geocoded = geocoded + [pd.DataFrame.from_dict(pd.json_normalize(results)).assign(Index = site.Index)]\n",
    "    \n",
    "geocoded_df = pd.concat(geocoded, sort=True).set_index(\"Index\")"
   ]
  },
  {
   "cell_type": "code",
   "execution_count": null,
   "metadata": {},
   "outputs": [],
   "source": [
    "geocoded_exposure_sites = exposure_sites.merge(geocoded_df, left_index=True, right_index=True)\n",
    "geocoded_exposure_sites.to_parquet(\"geocoded_exposure_sites.parquet\")\n",
    "geocoded_exposure_sites.to_csv(\"geocoded_exposure_sites.csv\")"
   ]
  },
  {
   "cell_type": "markdown",
   "metadata": {},
   "source": [
    "### The results do not always geocode to a point. Sometimes the engine will return a neighbourhood!"
   ]
  },
  {
   "cell_type": "code",
   "execution_count": null,
   "metadata": {},
   "outputs": [],
   "source": [
    "geocoded_exposure_sites[\"components._type\"].value_counts()"
   ]
  },
  {
   "cell_type": "markdown",
   "metadata": {},
   "source": [
    "### The engine gives an estimate of the match confidence. 10 is good."
   ]
  },
  {
   "cell_type": "code",
   "execution_count": null,
   "metadata": {},
   "outputs": [],
   "source": [
    "geocoded_exposure_sites.confidence.value_counts()"
   ]
  },
  {
   "cell_type": "code",
   "execution_count": null,
   "metadata": {},
   "outputs": [],
   "source": []
  }
 ],
 "metadata": {
  "kernelspec": {
   "display_name": "Python 3",
   "language": "python",
   "name": "python3"
  },
  "language_info": {
   "codemirror_mode": {
    "name": "ipython",
    "version": 3
   },
   "file_extension": ".py",
   "mimetype": "text/x-python",
   "name": "python",
   "nbconvert_exporter": "python",
   "pygments_lexer": "ipython3",
   "version": "3.8.5"
  }
 },
 "nbformat": 4,
 "nbformat_minor": 4
}
